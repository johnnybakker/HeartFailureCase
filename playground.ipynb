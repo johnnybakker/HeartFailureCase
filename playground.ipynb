{
 "cells": [
  {
   "cell_type": "code",
   "execution_count": 15,
   "metadata": {},
   "outputs": [],
   "source": [
    "import numpy as np\n",
    "import matplotlib.pyplot as plt\n",
    "import pandas"
   ]
  },
  {
   "cell_type": "code",
   "execution_count": 10,
   "metadata": {},
   "outputs": [
    {
     "data": {
      "text/plain": [
       "'1.25.2'"
      ]
     },
     "execution_count": 10,
     "metadata": {},
     "output_type": "execute_result"
    }
   ],
   "source": [
    "np.__version__"
   ]
  },
  {
   "cell_type": "code",
   "execution_count": 11,
   "metadata": {},
   "outputs": [
    {
     "data": {
      "text/plain": [
       "'3.7.2'"
      ]
     },
     "execution_count": 11,
     "metadata": {},
     "output_type": "execute_result"
    }
   ],
   "source": [
    "plot.__version__"
   ]
  },
  {
   "cell_type": "code",
   "execution_count": 12,
   "metadata": {},
   "outputs": [
    {
     "data": {
      "text/plain": [
       "'2.1.0'"
      ]
     },
     "execution_count": 12,
     "metadata": {},
     "output_type": "execute_result"
    }
   ],
   "source": [
    "pandas.__version__"
   ]
  },
  {
   "cell_type": "code",
   "execution_count": 8,
   "metadata": {},
   "outputs": [
    {
     "name": "stdout",
     "output_type": "stream",
     "text": [
      "    CaseNumber  LastName  PostCode   Age Sex ChestPainType  RestingBP  \\\n",
      "0  431-06-4243   Richard     99847  40.0   M           ATA        140   \n",
      "1  415-39-7809  Sheppard     64192  49.0   F           NAP        160   \n",
      "2  517-18-4618    Howard     29132  37.0   M           ATA        130   \n",
      "3  634-33-8726    Taylor     12930  48.0   F           ASY        138   \n",
      "4  151-40-1619   Mcgrath     79393  54.0   M           NAP        150   \n",
      "5  339-61-9172     Blair     90152  39.0   M           NAP        120   \n",
      "6  324-79-3351    Garcia     57408  45.0   F           ATA        130   \n",
      "7  454-67-4268      Levy     63023  54.0   M           ATA        110   \n",
      "8  015-12-6535     Brown     72420  37.0   M           ASY        140   \n",
      "9  641-01-8087      Page     88077  48.0   F           ATA        120   \n",
      "\n",
      "   Cholesterol  FastingBS  RestingECG  MaxHR ExerciseAngina  Oldpeak ST_Slope  \\\n",
      "0          289          0           0    172              N      0.0       Up   \n",
      "1          180          0           0    156              N      1.0     Flat   \n",
      "2          283          0           1     98              N      0.0       Up   \n",
      "3          214          0           0    108              Y      1.5     Flat   \n",
      "4          195          0           0    122              N      0.0       Up   \n",
      "5          339          0           0    170              N      0.0       Up   \n",
      "6          237          0           0    170              N      0.0       Up   \n",
      "7          208          0           0    142              N      0.0       Up   \n",
      "8          207          0           0    130              Y      1.5     Flat   \n",
      "9          284          0           0    120              N      0.0       Up   \n",
      "\n",
      "  HeartDisease  \n",
      "0            0  \n",
      "1            1  \n",
      "2            0  \n",
      "3            1  \n",
      "4            0  \n",
      "5            0  \n",
      "6            0  \n",
      "7            0  \n",
      "8            1  \n",
      "9            0  \n"
     ]
    }
   ],
   "source": [
    "df = pandas.read_csv(\"data/data.csv\")\n",
    "print(df.head(n=10)) "
   ]
  },
  {
   "cell_type": "markdown",
   "metadata": {},
   "source": [
    "\n",
    "Remove irrelevant columns (CaseNumber, LastName, PostCode) from the dataset "
   ]
  },
  {
   "cell_type": "code",
   "execution_count": 9,
   "metadata": {},
   "outputs": [
    {
     "name": "stdout",
     "output_type": "stream",
     "text": [
      "    Age Sex ChestPainType  RestingBP  Cholesterol  FastingBS  RestingECG  \\\n",
      "0  40.0   M           ATA        140          289          0           0   \n",
      "1  49.0   F           NAP        160          180          0           0   \n",
      "2  37.0   M           ATA        130          283          0           1   \n",
      "3  48.0   F           ASY        138          214          0           0   \n",
      "4  54.0   M           NAP        150          195          0           0   \n",
      "5  39.0   M           NAP        120          339          0           0   \n",
      "6  45.0   F           ATA        130          237          0           0   \n",
      "7  54.0   M           ATA        110          208          0           0   \n",
      "8  37.0   M           ASY        140          207          0           0   \n",
      "9  48.0   F           ATA        120          284          0           0   \n",
      "\n",
      "   MaxHR ExerciseAngina  Oldpeak ST_Slope HeartDisease  \n",
      "0    172              N      0.0       Up            0  \n",
      "1    156              N      1.0     Flat            1  \n",
      "2     98              N      0.0       Up            0  \n",
      "3    108              Y      1.5     Flat            1  \n",
      "4    122              N      0.0       Up            0  \n",
      "5    170              N      0.0       Up            0  \n",
      "6    170              N      0.0       Up            0  \n",
      "7    142              N      0.0       Up            0  \n",
      "8    130              Y      1.5     Flat            1  \n",
      "9    120              N      0.0       Up            0  \n"
     ]
    }
   ],
   "source": [
    "df = df.drop(columns=[\"CaseNumber\", \"LastName\", \"PostCode\"])\n",
    "print(df.head(n=10)) \n"
   ]
  },
  {
   "cell_type": "code",
   "execution_count": 19,
   "metadata": {},
   "outputs": [
    {
     "data": {
      "image/png": "[encoded data removed]",
      "text/plain": [
       "<Figure size 640x480 with 1 Axes>"
      ]
     },
     "metadata": {},
     "output_type": "display_data"
    }
   ],
   "source": [
    "plt.bar(df[\"Age\"], df[\"HeartDisease\"])\n",
    "plt.xlabel(\"Age\")\n",
    "plt.ylabel(\"HeartDisease\")\n",
    "plt.show()"
   ]
  },
  {
   "cell_type": "code",
   "execution_count": null,
   "metadata": {},
   "outputs": [],
   "source": [
    "\n"
   ]
  },
  {
   "cell_type": "code",
   "execution_count": null,
   "metadata": {},
   "outputs": [],
   "source": []
  }
 ],
 "metadata": {
  "kernelspec": {
   "display_name": "Python 3",
   "language": "python",
   "name": "python3"
  },
  "language_info": {
   "codemirror_mode": {
    "name": "ipython",
    "version": 3
   },
   "file_extension": ".py",
   "mimetype": "text/x-python",
   "name": "python",
   "nbconvert_exporter": "python",
   "pygments_lexer": "ipython3",
   "version": "3.10.5"
  },
  "orig_nbformat": 4
 },
 "nbformat": 4,
 "nbformat_minor": 2
}
