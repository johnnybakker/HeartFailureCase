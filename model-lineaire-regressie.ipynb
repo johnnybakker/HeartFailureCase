{
 "cells": [
  {
   "cell_type": "code",
   "execution_count": 14,
   "id": "initial_id",
   "metadata": {
    "collapsed": true,
    "ExecuteTime": {
     "end_time": "2023-09-24T09:36:15.870818900Z",
     "start_time": "2023-09-24T09:36:15.841819800Z"
    }
   },
   "outputs": [
    {
     "data": {
      "text/plain": "    CaseNumber  LastName  PostCode  Age  RestingBP  Cholesterol  FastingBS  \\\n0  431-06-4243   Richard     99847   40        140          289          0   \n1  415-39-7809  Sheppard     64192   49        160          180          0   \n2  517-18-4618    Howard     29132   37        130          283          0   \n3  634-33-8726    Taylor     12930   48        138          214          0   \n4  151-40-1619   Mcgrath     79393   54        150          195          0   \n\n   MaxHR  ExerciseAngina  Oldpeak  ...  ChestPainType_ATA  ChestPainType_NAP  \\\n0    172               0      0.0  ...                  1                  0   \n1    156               0      1.0  ...                  0                  1   \n2     98               0      0.0  ...                  1                  0   \n3    108               1      1.5  ...                  0                  0   \n4    122               0      0.0  ...                  0                  1   \n\n   ChestPainType_TA  HasCholesterol  RestingECG_Normal  RestingECG_ST  \\\n0                 0               1                  1              0   \n1                 0               1                  1              0   \n2                 0               1                  0              1   \n3                 0               1                  1              0   \n4                 0               1                  1              0   \n\n   RestingECG_LVH  ST_Slope_Down  ST_Slope_Flat  ST_Slope_Up  \n0               0              0              0            1  \n1               0              0              1            0  \n2               0              0              0            1  \n3               0              0              1            0  \n4               0              0              0            1  \n\n[5 rows x 24 columns]",
      "text/html": "<div>\n<style scoped>\n    .dataframe tbody tr th:only-of-type {\n        vertical-align: middle;\n    }\n\n    .dataframe tbody tr th {\n        vertical-align: top;\n    }\n\n    .dataframe thead th {\n        text-align: right;\n    }\n</style>\n<table border=\"1\" class=\"dataframe\">\n  <thead>\n    <tr style=\"text-align: right;\">\n      <th></th>\n      <th>CaseNumber</th>\n      <th>LastName</th>\n      <th>PostCode</th>\n      <th>Age</th>\n      <th>RestingBP</th>\n      <th>Cholesterol</th>\n      <th>FastingBS</th>\n      <th>MaxHR</th>\n      <th>ExerciseAngina</th>\n      <th>Oldpeak</th>\n      <th>...</th>\n      <th>ChestPainType_ATA</th>\n      <th>ChestPainType_NAP</th>\n      <th>ChestPainType_TA</th>\n      <th>HasCholesterol</th>\n      <th>RestingECG_Normal</th>\n      <th>RestingECG_ST</th>\n      <th>RestingECG_LVH</th>\n      <th>ST_Slope_Down</th>\n      <th>ST_Slope_Flat</th>\n      <th>ST_Slope_Up</th>\n    </tr>\n  </thead>\n  <tbody>\n    <tr>\n      <th>0</th>\n      <td>431-06-4243</td>\n      <td>Richard</td>\n      <td>99847</td>\n      <td>40</td>\n      <td>140</td>\n      <td>289</td>\n      <td>0</td>\n      <td>172</td>\n      <td>0</td>\n      <td>0.0</td>\n      <td>...</td>\n      <td>1</td>\n      <td>0</td>\n      <td>0</td>\n      <td>1</td>\n      <td>1</td>\n      <td>0</td>\n      <td>0</td>\n      <td>0</td>\n      <td>0</td>\n      <td>1</td>\n    </tr>\n    <tr>\n      <th>1</th>\n      <td>415-39-7809</td>\n      <td>Sheppard</td>\n      <td>64192</td>\n      <td>49</td>\n      <td>160</td>\n      <td>180</td>\n      <td>0</td>\n      <td>156</td>\n      <td>0</td>\n      <td>1.0</td>\n      <td>...</td>\n      <td>0</td>\n      <td>1</td>\n      <td>0</td>\n      <td>1</td>\n      <td>1</td>\n      <td>0</td>\n      <td>0</td>\n      <td>0</td>\n      <td>1</td>\n      <td>0</td>\n    </tr>\n    <tr>\n      <th>2</th>\n      <td>517-18-4618</td>\n      <td>Howard</td>\n      <td>29132</td>\n      <td>37</td>\n      <td>130</td>\n      <td>283</td>\n      <td>0</td>\n      <td>98</td>\n      <td>0</td>\n      <td>0.0</td>\n      <td>...</td>\n      <td>1</td>\n      <td>0</td>\n      <td>0</td>\n      <td>1</td>\n      <td>0</td>\n      <td>1</td>\n      <td>0</td>\n      <td>0</td>\n      <td>0</td>\n      <td>1</td>\n    </tr>\n    <tr>\n      <th>3</th>\n      <td>634-33-8726</td>\n      <td>Taylor</td>\n      <td>12930</td>\n      <td>48</td>\n      <td>138</td>\n      <td>214</td>\n      <td>0</td>\n      <td>108</td>\n      <td>1</td>\n      <td>1.5</td>\n      <td>...</td>\n      <td>0</td>\n      <td>0</td>\n      <td>0</td>\n      <td>1</td>\n      <td>1</td>\n      <td>0</td>\n      <td>0</td>\n      <td>0</td>\n      <td>1</td>\n      <td>0</td>\n    </tr>\n    <tr>\n      <th>4</th>\n      <td>151-40-1619</td>\n      <td>Mcgrath</td>\n      <td>79393</td>\n      <td>54</td>\n      <td>150</td>\n      <td>195</td>\n      <td>0</td>\n      <td>122</td>\n      <td>0</td>\n      <td>0.0</td>\n      <td>...</td>\n      <td>0</td>\n      <td>1</td>\n      <td>0</td>\n      <td>1</td>\n      <td>1</td>\n      <td>0</td>\n      <td>0</td>\n      <td>0</td>\n      <td>0</td>\n      <td>1</td>\n    </tr>\n  </tbody>\n</table>\n<p>5 rows × 24 columns</p>\n</div>"
     },
     "execution_count": 14,
     "metadata": {},
     "output_type": "execute_result"
    }
   ],
   "source": [
    "# import the necessary libraries\n",
    "from sklearn.datasets import load_breast_cancer\n",
    "from sklearn.linear_model import LogisticRegression\n",
    "from sklearn.model_selection import train_test_split\n",
    "from sklearn.metrics import accuracy_score, confusion_matrix, classification_report\n",
    "import pandas as pd\n",
    "\n",
    "\n",
    "df = pd.read_csv(\"out/Clean.csv\", sep=\";\", decimal=\",\")\n",
    "df.head()"
   ]
  },
  {
   "cell_type": "code",
   "execution_count": 15,
   "outputs": [
    {
     "name": "stdout",
     "output_type": "stream",
     "text": [
      "Logistic Regression model accuracy (in %): 85.24590163934425\n",
      "[[63 11]\n",
      " [16 93]]\n",
      "              precision    recall  f1-score   support\n",
      "\n",
      "           0       0.80      0.85      0.82        74\n",
      "           1       0.89      0.85      0.87       109\n",
      "\n",
      "    accuracy                           0.85       183\n",
      "   macro avg       0.85      0.85      0.85       183\n",
      "weighted avg       0.86      0.85      0.85       183\n"
     ]
    },
    {
     "name": "stderr",
     "output_type": "stream",
     "text": [
      "C:\\Users\\Xanh\\PycharmProjects\\HeartFailureCase\\venv\\lib\\site-packages\\sklearn\\linear_model\\_logistic.py:460: ConvergenceWarning: lbfgs failed to converge (status=1):\n",
      "STOP: TOTAL NO. of ITERATIONS REACHED LIMIT.\n",
      "\n",
      "Increase the number of iterations (max_iter) or scale the data as shown in:\n",
      "    https://scikit-learn.org/stable/modules/preprocessing.html\n",
      "Please also refer to the documentation for alternative solver options:\n",
      "    https://scikit-learn.org/stable/modules/linear_model.html#logistic-regression\n",
      "  n_iter_i = _check_optimize_result(\n"
     ]
    }
   ],
   "source": [
    "# Drop non-numeric columns\n",
    "columns_to_drop = ['CaseNumber', 'LastName', 'PostCode']\n",
    "df = df.drop(columns=columns_to_drop)\n",
    "\n",
    "# Separate features from the target variable\n",
    "X = df.drop(columns='HeartDisease')\n",
    "y = df['HeartDisease']\n",
    "\n",
    "# Split the train and test dataset\n",
    "X_train, X_test,\\\n",
    "    y_train, y_test = train_test_split(X, y,\n",
    "                                       test_size=0.20,\n",
    "                                       random_state=23)\n",
    "# LogisticRegression\n",
    "clf = LogisticRegression(random_state=0)\n",
    "clf.fit(X_train, y_train)\n",
    "\n",
    "# Prediction\n",
    "y_pred = clf.predict(X_test)\n",
    "\n",
    "acc = accuracy_score(y_test, y_pred)\n",
    "print(\"Logistic Regression model accuracy (in %):\", acc * 100)\n",
    "\n",
    "\n",
    "print(confusion_matrix(y_test, y_pred))\n",
    "print(classification_report(y_test, y_pred))\n"
   ],
   "metadata": {
    "collapsed": false,
    "ExecuteTime": {
     "end_time": "2023-09-24T09:36:15.962819700Z",
     "start_time": "2023-09-24T09:36:15.868819200Z"
    }
   },
   "id": "4b4f4221429b6be"
  },
  {
   "cell_type": "code",
   "execution_count": 15,
   "outputs": [],
   "source": [],
   "metadata": {
    "collapsed": false,
    "ExecuteTime": {
     "end_time": "2023-09-24T09:36:15.962819700Z",
     "start_time": "2023-09-24T09:36:15.913821100Z"
    }
   },
   "id": "c1bf7f27763e0d2"
  }
 ],
 "metadata": {
  "kernelspec": {
   "display_name": "Python 3",
   "language": "python",
   "name": "python3"
  },
  "language_info": {
   "codemirror_mode": {
    "name": "ipython",
    "version": 2
   },
   "file_extension": ".py",
   "mimetype": "text/x-python",
   "name": "python",
   "nbconvert_exporter": "python",
   "pygments_lexer": "ipython2",
   "version": "2.7.6"
  }
 },
 "nbformat": 4,
 "nbformat_minor": 5
}
