{
 "cells": [
  {
   "cell_type": "markdown",
   "metadata": {},
   "source": [
    "# Heart failure case - Data exploration\n",
    "\n",
    "In this notebook you will find the data exploration phase. The purpose of this phase is the find duplicate, missing values, particularities and outliers.\n",
    "We will start with loading all the required packages to explore the \"data.csv\" file and make usefull graphs to make the findings visual."
   ]
  },
  {
   "cell_type": "code",
   "execution_count": 371,
   "metadata": {},
   "outputs": [],
   "source": [
    "import numpy as np\n",
    "import matplotlib.pyplot as plt \n",
    "import seaborn as sns\n",
    "import pandas as pd\n",
    "import os\n",
    "from pathlib import Path"
   ]
  },
  {
   "cell_type": "markdown",
   "metadata": {},
   "source": [
    "## Loading data and explore the column names and data types\n",
    "The next step after loading the required packages is to explore the available column names and there datatypes."
   ]
  },
  {
   "cell_type": "code",
   "execution_count": 372,
   "metadata": {},
   "outputs": [],
   "source": [
    "df = pd.read_csv(\"data/data.csv\")"
   ]
  },
  {
   "cell_type": "code",
   "execution_count": 373,
   "metadata": {},
   "outputs": [
    {
     "data": {
      "text/html": [
       "<div>\n",
       "<style scoped>\n",
       "    .dataframe tbody tr th:only-of-type {\n",
       "        vertical-align: middle;\n",
       "    }\n",
       "\n",
       "    .dataframe tbody tr th {\n",
       "        vertical-align: top;\n",
       "    }\n",
       "\n",
       "    .dataframe thead th {\n",
       "        text-align: right;\n",
       "    }\n",
       "</style>\n",
       "<table border=\"1\" class=\"dataframe\">\n",
       "  <thead>\n",
       "    <tr style=\"text-align: right;\">\n",
       "      <th></th>\n",
       "      <th>CaseNumber</th>\n",
       "      <th>LastName</th>\n",
       "      <th>PostCode</th>\n",
       "      <th>Age</th>\n",
       "      <th>Sex</th>\n",
       "      <th>ChestPainType</th>\n",
       "      <th>RestingBP</th>\n",
       "      <th>Cholesterol</th>\n",
       "      <th>FastingBS</th>\n",
       "      <th>RestingECG</th>\n",
       "      <th>MaxHR</th>\n",
       "      <th>ExerciseAngina</th>\n",
       "      <th>Oldpeak</th>\n",
       "      <th>ST_Slope</th>\n",
       "      <th>HeartDisease</th>\n",
       "    </tr>\n",
       "  </thead>\n",
       "  <tbody>\n",
       "    <tr>\n",
       "      <th>0</th>\n",
       "      <td>431-06-4243</td>\n",
       "      <td>Richard</td>\n",
       "      <td>99847</td>\n",
       "      <td>40.0</td>\n",
       "      <td>M</td>\n",
       "      <td>ATA</td>\n",
       "      <td>140</td>\n",
       "      <td>289</td>\n",
       "      <td>0</td>\n",
       "      <td>0</td>\n",
       "      <td>172</td>\n",
       "      <td>N</td>\n",
       "      <td>0.0</td>\n",
       "      <td>Up</td>\n",
       "      <td>0</td>\n",
       "    </tr>\n",
       "    <tr>\n",
       "      <th>1</th>\n",
       "      <td>415-39-7809</td>\n",
       "      <td>Sheppard</td>\n",
       "      <td>64192</td>\n",
       "      <td>49.0</td>\n",
       "      <td>F</td>\n",
       "      <td>NAP</td>\n",
       "      <td>160</td>\n",
       "      <td>180</td>\n",
       "      <td>0</td>\n",
       "      <td>0</td>\n",
       "      <td>156</td>\n",
       "      <td>N</td>\n",
       "      <td>1.0</td>\n",
       "      <td>Flat</td>\n",
       "      <td>1</td>\n",
       "    </tr>\n",
       "    <tr>\n",
       "      <th>2</th>\n",
       "      <td>517-18-4618</td>\n",
       "      <td>Howard</td>\n",
       "      <td>29132</td>\n",
       "      <td>37.0</td>\n",
       "      <td>M</td>\n",
       "      <td>ATA</td>\n",
       "      <td>130</td>\n",
       "      <td>283</td>\n",
       "      <td>0</td>\n",
       "      <td>1</td>\n",
       "      <td>98</td>\n",
       "      <td>N</td>\n",
       "      <td>0.0</td>\n",
       "      <td>Up</td>\n",
       "      <td>0</td>\n",
       "    </tr>\n",
       "    <tr>\n",
       "      <th>3</th>\n",
       "      <td>634-33-8726</td>\n",
       "      <td>Taylor</td>\n",
       "      <td>12930</td>\n",
       "      <td>48.0</td>\n",
       "      <td>F</td>\n",
       "      <td>ASY</td>\n",
       "      <td>138</td>\n",
       "      <td>214</td>\n",
       "      <td>0</td>\n",
       "      <td>0</td>\n",
       "      <td>108</td>\n",
       "      <td>Y</td>\n",
       "      <td>1.5</td>\n",
       "      <td>Flat</td>\n",
       "      <td>1</td>\n",
       "    </tr>\n",
       "    <tr>\n",
       "      <th>4</th>\n",
       "      <td>151-40-1619</td>\n",
       "      <td>Mcgrath</td>\n",
       "      <td>79393</td>\n",
       "      <td>54.0</td>\n",
       "      <td>M</td>\n",
       "      <td>NAP</td>\n",
       "      <td>150</td>\n",
       "      <td>195</td>\n",
       "      <td>0</td>\n",
       "      <td>0</td>\n",
       "      <td>122</td>\n",
       "      <td>N</td>\n",
       "      <td>0.0</td>\n",
       "      <td>Up</td>\n",
       "      <td>0</td>\n",
       "    </tr>\n",
       "  </tbody>\n",
       "</table>\n",
       "</div>"
      ],
      "text/plain": [
       "    CaseNumber  LastName  PostCode   Age Sex ChestPainType  RestingBP  \\\n",
       "0  431-06-4243   Richard     99847  40.0   M           ATA        140   \n",
       "1  415-39-7809  Sheppard     64192  49.0   F           NAP        160   \n",
       "2  517-18-4618    Howard     29132  37.0   M           ATA        130   \n",
       "3  634-33-8726    Taylor     12930  48.0   F           ASY        138   \n",
       "4  151-40-1619   Mcgrath     79393  54.0   M           NAP        150   \n",
       "\n",
       "   Cholesterol  FastingBS  RestingECG  MaxHR ExerciseAngina  Oldpeak ST_Slope  \\\n",
       "0          289          0           0    172              N      0.0       Up   \n",
       "1          180          0           0    156              N      1.0     Flat   \n",
       "2          283          0           1     98              N      0.0       Up   \n",
       "3          214          0           0    108              Y      1.5     Flat   \n",
       "4          195          0           0    122              N      0.0       Up   \n",
       "\n",
       "  HeartDisease  \n",
       "0            0  \n",
       "1            1  \n",
       "2            0  \n",
       "3            1  \n",
       "4            0  "
      ]
     },
     "execution_count": 373,
     "metadata": {},
     "output_type": "execute_result"
    }
   ],
   "source": [
    "df.head()"
   ]
  },
  {
   "cell_type": "markdown",
   "metadata": {},
   "source": [
    "By iterating over the first five rows of data you can clearly one outstanding particularity. Age is represented as a floating point number."
   ]
  },
  {
   "cell_type": "code",
   "execution_count": 374,
   "metadata": {},
   "outputs": [
    {
     "name": "stdout",
     "output_type": "stream",
     "text": [
      "<class 'pandas.core.frame.DataFrame'>\n",
      "RangeIndex: 918 entries, 0 to 917\n",
      "Data columns (total 15 columns):\n",
      " #   Column          Non-Null Count  Dtype  \n",
      "---  ------          --------------  -----  \n",
      " 0   CaseNumber      918 non-null    object \n",
      " 1   LastName        918 non-null    object \n",
      " 2   PostCode        918 non-null    int64  \n",
      " 3   Age             915 non-null    float64\n",
      " 4   Sex             918 non-null    object \n",
      " 5   ChestPainType   918 non-null    object \n",
      " 6   RestingBP       918 non-null    int64  \n",
      " 7   Cholesterol     918 non-null    int64  \n",
      " 8   FastingBS       918 non-null    int64  \n",
      " 9   RestingECG      918 non-null    int64  \n",
      " 10  MaxHR           918 non-null    int64  \n",
      " 11  ExerciseAngina  918 non-null    object \n",
      " 12  Oldpeak         918 non-null    float64\n",
      " 13  ST_Slope        918 non-null    object \n",
      " 14  HeartDisease    918 non-null    object \n",
      "dtypes: float64(2), int64(6), object(7)\n",
      "memory usage: 107.7+ KB\n"
     ]
    }
   ],
   "source": [
    "df.info()"
   ]
  },
  {
   "cell_type": "markdown",
   "metadata": {},
   "source": [
    "After printing the datatypes of every column our conclusion about the Age column is confirmed as it has a float64 datatype. <br/>\n",
    "The dataset contains 918 rows of data excluding the columns rows which means that it is not a large dataset. Because it is such a small dataset dropping rows with missing or incorrect values can have huge impact on the model performance<br/>\n",
    "Most of the columns are having the object datatype because this is how python treats the non primitive types. <br/>\n",
    "PostCode is stored as a int64 this means that values in that column cannot start with zeros. Therefore the datatype of the column may be transformed to a string (Textual value) at loading<br/>\n",
    "HeartDisease is represented as a object which is interesting, because the first five rows only contains 0 or 1 values.\n"
   ]
  },
  {
   "cell_type": "code",
   "execution_count": 375,
   "metadata": {},
   "outputs": [
    {
     "data": {
      "text/plain": [
       "['0', '1', 'yes']"
      ]
     },
     "execution_count": 375,
     "metadata": {},
     "output_type": "execute_result"
    }
   ],
   "source": [
    "df.HeartDisease.unique().tolist()"
   ]
  },
  {
   "cell_type": "markdown",
   "metadata": {},
   "source": [
    "By printing the unique values of the HeartDisease column it became clear that it also contains textual values of yes which isn't easy to work with in the rest of the exploration phase. <br/> \n",
    "The yes values will be converted to binary values \"1\" and the datatype of the column will be converted to int32"
   ]
  },
  {
   "cell_type": "code",
   "execution_count": 376,
   "metadata": {},
   "outputs": [
    {
     "data": {
      "text/plain": [
       "[0, 1]"
      ]
     },
     "execution_count": 376,
     "metadata": {},
     "output_type": "execute_result"
    }
   ],
   "source": [
    "df.HeartDisease = df.HeartDisease.replace({ 'yes': '1', 'no': '0' }).astype(int)\n",
    "df.HeartDisease.unique().tolist()"
   ]
  },
  {
   "cell_type": "markdown",
   "metadata": {},
   "source": [
    "## Finding missing values\n",
    "The next step is to find missing values by combining the isna() and sum() methods on the dataframe. When viewing the result we can make the conclusion that there are 3 rows that does not contain a value for the \"Age\" column.\n",
    "We will drop the missing values for this exploration phase, but we may need to fill in these values when using the dataset for model training."
   ]
  },
  {
   "cell_type": "code",
   "execution_count": 377,
   "metadata": {},
   "outputs": [
    {
     "data": {
      "text/plain": [
       "CaseNumber        0\n",
       "LastName          0\n",
       "PostCode          0\n",
       "Age               3\n",
       "Sex               0\n",
       "ChestPainType     0\n",
       "RestingBP         0\n",
       "Cholesterol       0\n",
       "FastingBS         0\n",
       "RestingECG        0\n",
       "MaxHR             0\n",
       "ExerciseAngina    0\n",
       "Oldpeak           0\n",
       "ST_Slope          0\n",
       "HeartDisease      0\n",
       "dtype: int64"
      ]
     },
     "execution_count": 377,
     "metadata": {},
     "output_type": "execute_result"
    }
   ],
   "source": [
    "df.isna().sum()"
   ]
  },
  {
   "cell_type": "code",
   "execution_count": 378,
   "metadata": {},
   "outputs": [],
   "source": [
    "df = df.dropna() #Drop null values"
   ]
  },
  {
   "cell_type": "markdown",
   "metadata": {},
   "source": [
    "## Finding outliers\n",
    "We can use the describe() method to get more information about the numeric values in a dataframe. <br/>By comparing the min and max values with the mean of the Resting column we can say that the values are not evenly distributed and therfore need to be analysed futher."
   ]
  },
  {
   "cell_type": "code",
   "execution_count": 379,
   "metadata": {},
   "outputs": [
    {
     "data": {
      "text/html": [
       "<div>\n",
       "<style scoped>\n",
       "    .dataframe tbody tr th:only-of-type {\n",
       "        vertical-align: middle;\n",
       "    }\n",
       "\n",
       "    .dataframe tbody tr th {\n",
       "        vertical-align: top;\n",
       "    }\n",
       "\n",
       "    .dataframe thead th {\n",
       "        text-align: right;\n",
       "    }\n",
       "</style>\n",
       "<table border=\"1\" class=\"dataframe\">\n",
       "  <thead>\n",
       "    <tr style=\"text-align: right;\">\n",
       "      <th></th>\n",
       "      <th>PostCode</th>\n",
       "      <th>Age</th>\n",
       "      <th>RestingBP</th>\n",
       "      <th>Cholesterol</th>\n",
       "      <th>FastingBS</th>\n",
       "      <th>RestingECG</th>\n",
       "      <th>MaxHR</th>\n",
       "      <th>Oldpeak</th>\n",
       "      <th>HeartDisease</th>\n",
       "    </tr>\n",
       "  </thead>\n",
       "  <tbody>\n",
       "    <tr>\n",
       "      <th>count</th>\n",
       "      <td>915.000000</td>\n",
       "      <td>915.000000</td>\n",
       "      <td>915.000000</td>\n",
       "      <td>915.000000</td>\n",
       "      <td>915.000000</td>\n",
       "      <td>915.000000</td>\n",
       "      <td>915.000000</td>\n",
       "      <td>915.000000</td>\n",
       "      <td>915.000000</td>\n",
       "    </tr>\n",
       "    <tr>\n",
       "      <th>mean</th>\n",
       "      <td>50344.066667</td>\n",
       "      <td>53.512568</td>\n",
       "      <td>131.918033</td>\n",
       "      <td>198.661202</td>\n",
       "      <td>0.233880</td>\n",
       "      <td>0.605464</td>\n",
       "      <td>136.874317</td>\n",
       "      <td>0.888087</td>\n",
       "      <td>0.553005</td>\n",
       "    </tr>\n",
       "    <tr>\n",
       "      <th>std</th>\n",
       "      <td>29138.710194</td>\n",
       "      <td>9.448039</td>\n",
       "      <td>21.908424</td>\n",
       "      <td>109.517656</td>\n",
       "      <td>0.423528</td>\n",
       "      <td>0.806546</td>\n",
       "      <td>25.454953</td>\n",
       "      <td>1.066878</td>\n",
       "      <td>0.497454</td>\n",
       "    </tr>\n",
       "    <tr>\n",
       "      <th>min</th>\n",
       "      <td>549.000000</td>\n",
       "      <td>28.000000</td>\n",
       "      <td>-126.000000</td>\n",
       "      <td>0.000000</td>\n",
       "      <td>0.000000</td>\n",
       "      <td>0.000000</td>\n",
       "      <td>60.000000</td>\n",
       "      <td>-2.600000</td>\n",
       "      <td>0.000000</td>\n",
       "    </tr>\n",
       "    <tr>\n",
       "      <th>25%</th>\n",
       "      <td>24125.500000</td>\n",
       "      <td>47.000000</td>\n",
       "      <td>120.000000</td>\n",
       "      <td>173.000000</td>\n",
       "      <td>0.000000</td>\n",
       "      <td>0.000000</td>\n",
       "      <td>120.000000</td>\n",
       "      <td>0.000000</td>\n",
       "      <td>0.000000</td>\n",
       "    </tr>\n",
       "    <tr>\n",
       "      <th>50%</th>\n",
       "      <td>51310.000000</td>\n",
       "      <td>54.000000</td>\n",
       "      <td>130.000000</td>\n",
       "      <td>223.000000</td>\n",
       "      <td>0.000000</td>\n",
       "      <td>0.000000</td>\n",
       "      <td>138.000000</td>\n",
       "      <td>0.600000</td>\n",
       "      <td>1.000000</td>\n",
       "    </tr>\n",
       "    <tr>\n",
       "      <th>75%</th>\n",
       "      <td>75673.000000</td>\n",
       "      <td>60.000000</td>\n",
       "      <td>140.000000</td>\n",
       "      <td>267.000000</td>\n",
       "      <td>0.000000</td>\n",
       "      <td>1.000000</td>\n",
       "      <td>156.000000</td>\n",
       "      <td>1.500000</td>\n",
       "      <td>1.000000</td>\n",
       "    </tr>\n",
       "    <tr>\n",
       "      <th>max</th>\n",
       "      <td>99847.000000</td>\n",
       "      <td>77.000000</td>\n",
       "      <td>200.000000</td>\n",
       "      <td>603.000000</td>\n",
       "      <td>1.000000</td>\n",
       "      <td>2.000000</td>\n",
       "      <td>202.000000</td>\n",
       "      <td>6.200000</td>\n",
       "      <td>1.000000</td>\n",
       "    </tr>\n",
       "  </tbody>\n",
       "</table>\n",
       "</div>"
      ],
      "text/plain": [
       "           PostCode         Age   RestingBP  Cholesterol   FastingBS  \\\n",
       "count    915.000000  915.000000  915.000000   915.000000  915.000000   \n",
       "mean   50344.066667   53.512568  131.918033   198.661202    0.233880   \n",
       "std    29138.710194    9.448039   21.908424   109.517656    0.423528   \n",
       "min      549.000000   28.000000 -126.000000     0.000000    0.000000   \n",
       "25%    24125.500000   47.000000  120.000000   173.000000    0.000000   \n",
       "50%    51310.000000   54.000000  130.000000   223.000000    0.000000   \n",
       "75%    75673.000000   60.000000  140.000000   267.000000    0.000000   \n",
       "max    99847.000000   77.000000  200.000000   603.000000    1.000000   \n",
       "\n",
       "       RestingECG       MaxHR     Oldpeak  HeartDisease  \n",
       "count  915.000000  915.000000  915.000000    915.000000  \n",
       "mean     0.605464  136.874317    0.888087      0.553005  \n",
       "std      0.806546   25.454953    1.066878      0.497454  \n",
       "min      0.000000   60.000000   -2.600000      0.000000  \n",
       "25%      0.000000  120.000000    0.000000      0.000000  \n",
       "50%      0.000000  138.000000    0.600000      1.000000  \n",
       "75%      1.000000  156.000000    1.500000      1.000000  \n",
       "max      2.000000  202.000000    6.200000      1.000000  "
      ]
     },
     "execution_count": 379,
     "metadata": {},
     "output_type": "execute_result"
    }
   ],
   "source": [
    "df.describe()"
   ]
  },
  {
   "cell_type": "markdown",
   "metadata": {},
   "source": [
    "You can use a boxplot like the one below to make outliers visible. In the box plot you can clearly see that the values are not evenly distributed and may need to be transformed if the values are not correct."
   ]
  },
  {
   "cell_type": "code",
   "execution_count": 380,
   "metadata": {},
   "outputs": [
    {
     "data": {
      "text/plain": [
       "<Axes: >"
      ]
     },
     "execution_count": 380,
     "metadata": {},
     "output_type": "execute_result"
    },
    {
     "data": {
      "image/png": "[encoded data removed]",
      "text/plain": [
       "<Figure size 640x480 with 1 Axes>"
      ]
     },
     "metadata": {},
     "output_type": "display_data"
    }
   ],
   "source": [
    "sns.boxplot(df.RestingBP)"
   ]
  },
  {
   "cell_type": "markdown",
   "metadata": {},
   "source": [
    "# Analyse catagorical columns\n",
    "Catagorical columns will be analaysed to find unkown categories. There first catagorical column Sex contains rows with the value 'X' which was not known before."
   ]
  },
  {
   "cell_type": "code",
   "execution_count": 381,
   "metadata": {},
   "outputs": [
    {
     "data": {
      "text/plain": [
       "['M', 'F', 'X']"
      ]
     },
     "execution_count": 381,
     "metadata": {},
     "output_type": "execute_result"
    }
   ],
   "source": [
    "df.Sex.unique().tolist()"
   ]
  },
  {
   "cell_type": "markdown",
   "metadata": {},
   "source": [
    "The following catagorical columns do contain values that are known and can be transfored using one-hot encoding"
   ]
  },
  {
   "cell_type": "code",
   "execution_count": 382,
   "metadata": {},
   "outputs": [
    {
     "data": {
      "text/plain": [
       "['ATA', 'NAP', 'ASY', 'TA']"
      ]
     },
     "execution_count": 382,
     "metadata": {},
     "output_type": "execute_result"
    }
   ],
   "source": [
    "df.ChestPainType.unique().tolist()"
   ]
  },
  {
   "cell_type": "code",
   "execution_count": 383,
   "metadata": {},
   "outputs": [
    {
     "data": {
      "text/plain": [
       "['Up', 'Flat', 'Down']"
      ]
     },
     "execution_count": 383,
     "metadata": {},
     "output_type": "execute_result"
    }
   ],
   "source": [
    "df.ST_Slope.unique().tolist()"
   ]
  },
  {
   "cell_type": "markdown",
   "metadata": {},
   "source": [
    "Because the \"ExerciseAngina\" column only includes two values it can be transformed into the binary values 1 or 0"
   ]
  },
  {
   "cell_type": "code",
   "execution_count": 384,
   "metadata": {},
   "outputs": [
    {
     "data": {
      "text/plain": [
       "['N', 'Y']"
      ]
     },
     "execution_count": 384,
     "metadata": {},
     "output_type": "execute_result"
    }
   ],
   "source": [
    "df.ExerciseAngina.unique().tolist()"
   ]
  }
 ],
 "metadata": {
  "kernelspec": {
   "display_name": "Python 3",
   "language": "python",
   "name": "python3"
  },
  "language_info": {
   "codemirror_mode": {
    "name": "ipython",
    "version": 3
   },
   "file_extension": ".py",
   "mimetype": "text/x-python",
   "name": "python",
   "nbconvert_exporter": "python",
   "pygments_lexer": "ipython3",
   "version": "3.10.5"
  },
  "orig_nbformat": 4
 },
 "nbformat": 4,
 "nbformat_minor": 2
}
