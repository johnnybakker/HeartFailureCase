{
 "cells": [
  {
   "cell_type": "markdown",
   "metadata": {},
   "source": [
    "# Linear algebra playground (Johnny)\n",
    "This notebook is by playground for understanding linear algebra.\n",
    "In this notebook I will use numpy to do linear algebra calculations with arrays, vectors and matrices."
   ]
  },
  {
   "cell_type": "code",
   "execution_count": 740,
   "metadata": {},
   "outputs": [],
   "source": [
    "import numpy as np"
   ]
  },
  {
   "cell_type": "markdown",
   "metadata": {},
   "source": [
    "## Arithemic vector operations\n",
    "I will first explore the basics of vector arithemic operations using the two vectors <code>a</code> and <code>b</code>"
   ]
  },
  {
   "cell_type": "code",
   "execution_count": 741,
   "metadata": {},
   "outputs": [
    {
     "name": "stdout",
     "output_type": "stream",
     "text": [
      "a = [20 40 60]\n",
      "b = [ 10 100  30]\n"
     ]
    }
   ],
   "source": [
    "a = np.array([20, 40, 60])\n",
    "b = np.array([10, 100, 30])\n",
    "\n",
    "print(\"a =\", a)\n",
    "print(\"b =\", b)\n"
   ]
  },
  {
   "cell_type": "markdown",
   "metadata": {},
   "source": [
    "Arithemic operations with vectors <code>a</code> and <code>b</code>"
   ]
  },
  {
   "cell_type": "code",
   "execution_count": 742,
   "metadata": {},
   "outputs": [
    {
     "name": "stdout",
     "output_type": "stream",
     "text": [
      "a+b = [ 30 140  90]\n",
      "a-b = [ 10 -60  30]\n",
      "a*b = [ 200 4000 1800]\n",
      "a/b = [2.  0.4 2. ]\n"
     ]
    }
   ],
   "source": [
    "print(\"a+b =\", a+b)\n",
    "print(\"a-b =\", a-b)\n",
    "print(\"a*b =\", a*b)\n",
    "print(\"a/b =\", a/b)\n"
   ]
  },
  {
   "cell_type": "markdown",
   "metadata": {},
   "source": [
    "Arithemic operations on vectors cannot be executed on vectors that doesn't have the same shape"
   ]
  },
  {
   "cell_type": "code",
   "execution_count": 743,
   "metadata": {},
   "outputs": [
    {
     "name": "stdout",
     "output_type": "stream",
     "text": [
      "ValueError: operands could not be broadcast together with shapes (3,) (4,) \n"
     ]
    }
   ],
   "source": [
    "c = np.array([5, 10, 15, 20])\n",
    "\n",
    "try: \n",
    "\ta+c \n",
    "except ValueError as e:\n",
    "\tprint(\"ValueError:\", e)\n"
   ]
  },
  {
   "cell_type": "markdown",
   "metadata": {},
   "source": [
    "## Performing vector scalar arithemic operations\n",
    "Because scalar arithemic operations do not work on python lists, we need to use numpy arrays."
   ]
  },
  {
   "cell_type": "code",
   "execution_count": 744,
   "metadata": {},
   "outputs": [
    {
     "name": "stdout",
     "output_type": "stream",
     "text": [
      "s+a = [22 42 62]\n",
      "a-s = [18 38 58]\n",
      "s*a = [ 40  80 120]\n",
      "a/s = [10. 20. 30.]\n"
     ]
    }
   ],
   "source": [
    "s = 2\n",
    "print(\"s+a =\", s + a)\n",
    "print(\"a-s =\", a - s)\n",
    "print(\"s*a =\", s * a)\n",
    "print(\"a/s =\", a / s)"
   ]
  },
  {
   "cell_type": "markdown",
   "metadata": {},
   "source": [
    "## Dot product\n",
    "The dot product of two vectors is calculated by multiplying there elements and summing them all."
   ]
  },
  {
   "cell_type": "code",
   "execution_count": 745,
   "metadata": {},
   "outputs": [
    {
     "name": "stdout",
     "output_type": "stream",
     "text": [
      "6000 or 6000 or 6000\n"
     ]
    }
   ],
   "source": [
    "d1 = np.dot(a, b) # Using numpy method\n",
    "d2 = (a*b).sum() # Using arithemic operations\n",
    "\n",
    "# Doing it manual\n",
    "d3 = 0;\n",
    "for i in range(len(a)):\n",
    "\td3 += a[i]*b[i]\n",
    "\n",
    "print(d1, \"or\", d2, \"or\", d3)"
   ]
  },
  {
   "cell_type": "markdown",
   "metadata": {},
   "source": [
    "<code>dot product of a and (b+c)</code> is the same as <code>dot product of a and b + dot product of a and c</code>"
   ]
  },
  {
   "cell_type": "code",
   "execution_count": 746,
   "metadata": {},
   "outputs": [
    {
     "name": "stdout",
     "output_type": "stream",
     "text": [
      "12400\n",
      "12400\n"
     ]
    }
   ],
   "source": [
    "c = np.array([40, 50, 60])\n",
    "\n",
    "first_result = np.dot(a, b+c)\n",
    "print(first_result)\n",
    "second_result = np.dot(a, b) + np.dot(a, c)\n",
    "print(second_result)\n"
   ]
  },
  {
   "cell_type": "markdown",
   "metadata": {},
   "source": [
    "## Scalar and vector projection\n"
   ]
  },
  {
   "cell_type": "code",
   "execution_count": 747,
   "metadata": {},
   "outputs": [],
   "source": [
    "from numpy import linalg as lng\n",
    "import math"
   ]
  },
  {
   "cell_type": "markdown",
   "metadata": {},
   "source": [
    "### Calculate the magnitude\n",
    "The magnitude is used to get the length of a vector without caring about the direction.\n",
    "In case of a 2d vector we use <code>sqrt(x * x + y * y)</code>. In case of a 3d vector we use <code>sqrt(x * x + y * y + z * z)</code>.<br/>\n",
    "Numpy has a method to do this at once called norm()"
   ]
  },
  {
   "cell_type": "code",
   "execution_count": 748,
   "metadata": {},
   "outputs": [
    {
     "name": "stdout",
     "output_type": "stream",
     "text": [
      "74.83314773547883 or 74.83314773547883 or 74.83314773547883 or 74.83314773547883\n"
     ]
    }
   ],
   "source": [
    "# Calculate the magnitude of a vector using numpy's norm method\n",
    "m1 = lng.norm(a)\n",
    "m2 = math.sqrt(a[0] * a[0] + a[1] * a[1] + a[2] * a[2])\n",
    "\n",
    "# This is the norm function I created\n",
    "def norm(v):\n",
    "\tm = 0 # The sum of a[n]*a[n]\n",
    "\tfor i in range(len(a)):\n",
    "\t\tm+=a[i]*a[i]\n",
    "\treturn math.sqrt(m)\n",
    "\n",
    "# This is the norm function I created using dot product\n",
    "def norm2(v):\n",
    "\treturn math.sqrt(np.dot(a,a))\n",
    "\n",
    "# Should be the same as m1 and m2\n",
    "m3 = norm(a)\n",
    "\n",
    "# Should be the same as m1 and m2 and m3\n",
    "m4 = norm2(a)\n",
    "\n",
    "# Print the results\n",
    "print(m1, \"or\", m2, \"or\", m3, \"or\", m4)"
   ]
  },
  {
   "cell_type": "code",
   "execution_count": 749,
   "metadata": {},
   "outputs": [
    {
     "name": "stdout",
     "output_type": "stream",
     "text": [
      "[ 5.45454545 54.54545455 16.36363636]\n"
     ]
    }
   ],
   "source": [
    "projection = (np.dot(a, b) / np.dot(b, b)) * b\n",
    "print(projection)"
   ]
  },
  {
   "cell_type": "markdown",
   "metadata": {},
   "source": [
    "## Matrices\n",
    "There are different types op matrices.\n",
    "- Rectangular matrices have different number of rows and columns (m by n matrix where m = rows and n = cols)\n",
    "- Square martices have same number of rows and columns (n by n matrix)\n",
    "\t- Symmetric matrix have elements mirrored accross the diagonal\n",
    "\t- Zero matrix is filled with zero's\n",
    "\t- Identity matrix has zero's on all off-diagonal elements and ones on the diagonal elements\n",
    "\t- Diagonal matrix is the same as identifty matrix but all ones van have any number if you multiply a scalar with an identity matrix you will get a diagonal matrix\n",
    "\t- Triangular matrix has elements on the upper right or the lower left of the matrix equal to zero\n",
    "\t\t- Upper triangular has nonzero elements above the diagonal\n",
    "\t\t- Lower triangular had nonzero elements below the diagonal\n",
    "## Scaling\n",
    "We can scale a vector by using a identity matrix times a scale scalar [3, 4] * (2 * [ [1, 0], [0, 1] ])"
   ]
  },
  {
   "cell_type": "code",
   "execution_count": 750,
   "metadata": {},
   "outputs": [
    {
     "name": "stdout",
     "output_type": "stream",
     "text": [
      "[6 8]\n",
      "[6 8]\n",
      "[6 8]\n"
     ]
    }
   ],
   "source": [
    "v = np.array([3, 4])\n",
    "\n",
    "s = 2 # scale value\n",
    "i = np.array([[1, 0], [0, 1]]) # 2d identity matrix\n",
    "\n",
    "print(v * np.array([s, s])) # scaling using other vector\n",
    "print(np.dot(v, np.array([[s, 0], [0, s]]))) # scaling using transformation matrix\n",
    "print(np.dot(v, (s*i))) # scaling using identity matrix and scalar value\n"
   ]
  },
  {
   "cell_type": "markdown",
   "metadata": {},
   "source": [
    "## Inversion\n",
    "Inverse a vector by using matric arithemic can be done by using a -1 scaling value"
   ]
  },
  {
   "cell_type": "code",
   "execution_count": 751,
   "metadata": {},
   "outputs": [
    {
     "name": "stdout",
     "output_type": "stream",
     "text": [
      "[-3 -4]\n",
      "[-3 -4]\n",
      "[-3 -4]\n"
     ]
    }
   ],
   "source": [
    "v = np.array([3, 4])\n",
    "\n",
    "s = -1 # use -1 as scale value\n",
    "i = np.array([[1, 0], [0, 1]]) # 2d identity matrix\n",
    "\n",
    "print(v * np.array([s, s])) # inverse using other vector\n",
    "print(np.dot(v, np.array([[s, 0], [0, s]]))) # inverse using transformation matrix\n",
    "print(np.dot(v, (s*i))) # inverse using identity matrix and scalar value"
   ]
  },
  {
   "cell_type": "markdown",
   "metadata": {},
   "source": [
    "## Rotation\n"
   ]
  },
  {
   "cell_type": "code",
   "execution_count": 752,
   "metadata": {},
   "outputs": [
    {
     "name": "stdout",
     "output_type": "stream",
     "text": [
      "[ 4. -4.]\n"
     ]
    }
   ],
   "source": [
    "v = np.array([4, 4])\n",
    "\n",
    "a = 90 * (math.pi / 180) # radians\n",
    "\n",
    "# Constructing a rotation matrix for clockwise rotation\n",
    "R = np.array([\n",
    "\t[math.cos(a), -math.sin(a)], \n",
    "\t[math.sin(a), math.cos(a)]\n",
    "])\n",
    "\n",
    "print(np.dot(v, R))"
   ]
  }
 ],
 "metadata": {
  "kernelspec": {
   "display_name": "Python 3",
   "language": "python",
   "name": "python3"
  },
  "language_info": {
   "codemirror_mode": {
    "name": "ipython",
    "version": 3
   },
   "file_extension": ".py",
   "mimetype": "text/x-python",
   "name": "python",
   "nbconvert_exporter": "python",
   "pygments_lexer": "ipython3",
   "version": "3.10.5"
  },
  "orig_nbformat": 4
 },
 "nbformat": 4,
 "nbformat_minor": 2
}
