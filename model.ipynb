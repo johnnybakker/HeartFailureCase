{
 "cells": [
  {
   "cell_type": "code",
   "execution_count": 11,
   "id": "initial_id",
   "metadata": {
    "collapsed": true,
    "ExecuteTime": {
     "end_time": "2023-09-11T19:11:13.127208200Z",
     "start_time": "2023-09-11T19:11:13.112208700Z"
    }
   },
   "outputs": [],
   "source": [
    "import numpy as np # linear algebra\n",
    "import matplotlib.pyplot as plt \n",
    "import os\n",
    "from pathlib import Path\n",
    "import pandas as pd # data processing, CSV file I/O (e.g. pd.read_csv)\n",
    "from sklearn.model_selection import train_test_split\n",
    "from sklearn.preprocessing import StandardScaler\n",
    "from sklearn.metrics import classification_report, confusion_matrix\n",
    "from sklearn.neighbors import KNeighborsClassifier\n",
    "\n"
   ]
  },
  {
   "cell_type": "code",
   "execution_count": 12,
   "outputs": [
    {
     "data": {
      "text/plain": "    CaseNumber  LastName  PostCode  Age  RestingBP  Cholesterol  FastingBS  \\\n0  431-06-4243   Richard     99847   40        140          289          0   \n1  415-39-7809  Sheppard     64192   49        160          180          0   \n2  517-18-4618    Howard     29132   37        130          283          0   \n3  634-33-8726    Taylor     12930   48        138          214          0   \n4  151-40-1619   Mcgrath     79393   54        150          195          0   \n\n   MaxHR  ExerciseAngina  Oldpeak  ...  ChestPainType_ATA  ChestPainType_NAP  \\\n0    172               0      0.0  ...                  1                  0   \n1    156               0      1.0  ...                  0                  1   \n2     98               0      0.0  ...                  1                  0   \n3    108               1      1.5  ...                  0                  0   \n4    122               0      0.0  ...                  0                  1   \n\n   ChestPainType_TA  HasCholesterol  RestingECG_Normal  RestingECG_ST  \\\n0                 0               1                  1              0   \n1                 0               1                  1              0   \n2                 0               1                  0              1   \n3                 0               1                  1              0   \n4                 0               1                  1              0   \n\n   RestingECG_LVH  ST_Slope_Down  ST_Slope_Flat  ST_Slope_Up  \n0               0              0              0            1  \n1               0              0              1            0  \n2               0              0              0            1  \n3               0              0              1            0  \n4               0              0              0            1  \n\n[5 rows x 24 columns]",
      "text/html": "<div>\n<style scoped>\n    .dataframe tbody tr th:only-of-type {\n        vertical-align: middle;\n    }\n\n    .dataframe tbody tr th {\n        vertical-align: top;\n    }\n\n    .dataframe thead th {\n        text-align: right;\n    }\n</style>\n<table border=\"1\" class=\"dataframe\">\n  <thead>\n    <tr style=\"text-align: right;\">\n      <th></th>\n      <th>CaseNumber</th>\n      <th>LastName</th>\n      <th>PostCode</th>\n      <th>Age</th>\n      <th>RestingBP</th>\n      <th>Cholesterol</th>\n      <th>FastingBS</th>\n      <th>MaxHR</th>\n      <th>ExerciseAngina</th>\n      <th>Oldpeak</th>\n      <th>...</th>\n      <th>ChestPainType_ATA</th>\n      <th>ChestPainType_NAP</th>\n      <th>ChestPainType_TA</th>\n      <th>HasCholesterol</th>\n      <th>RestingECG_Normal</th>\n      <th>RestingECG_ST</th>\n      <th>RestingECG_LVH</th>\n      <th>ST_Slope_Down</th>\n      <th>ST_Slope_Flat</th>\n      <th>ST_Slope_Up</th>\n    </tr>\n  </thead>\n  <tbody>\n    <tr>\n      <th>0</th>\n      <td>431-06-4243</td>\n      <td>Richard</td>\n      <td>99847</td>\n      <td>40</td>\n      <td>140</td>\n      <td>289</td>\n      <td>0</td>\n      <td>172</td>\n      <td>0</td>\n      <td>0.0</td>\n      <td>...</td>\n      <td>1</td>\n      <td>0</td>\n      <td>0</td>\n      <td>1</td>\n      <td>1</td>\n      <td>0</td>\n      <td>0</td>\n      <td>0</td>\n      <td>0</td>\n      <td>1</td>\n    </tr>\n    <tr>\n      <th>1</th>\n      <td>415-39-7809</td>\n      <td>Sheppard</td>\n      <td>64192</td>\n      <td>49</td>\n      <td>160</td>\n      <td>180</td>\n      <td>0</td>\n      <td>156</td>\n      <td>0</td>\n      <td>1.0</td>\n      <td>...</td>\n      <td>0</td>\n      <td>1</td>\n      <td>0</td>\n      <td>1</td>\n      <td>1</td>\n      <td>0</td>\n      <td>0</td>\n      <td>0</td>\n      <td>1</td>\n      <td>0</td>\n    </tr>\n    <tr>\n      <th>2</th>\n      <td>517-18-4618</td>\n      <td>Howard</td>\n      <td>29132</td>\n      <td>37</td>\n      <td>130</td>\n      <td>283</td>\n      <td>0</td>\n      <td>98</td>\n      <td>0</td>\n      <td>0.0</td>\n      <td>...</td>\n      <td>1</td>\n      <td>0</td>\n      <td>0</td>\n      <td>1</td>\n      <td>0</td>\n      <td>1</td>\n      <td>0</td>\n      <td>0</td>\n      <td>0</td>\n      <td>1</td>\n    </tr>\n    <tr>\n      <th>3</th>\n      <td>634-33-8726</td>\n      <td>Taylor</td>\n      <td>12930</td>\n      <td>48</td>\n      <td>138</td>\n      <td>214</td>\n      <td>0</td>\n      <td>108</td>\n      <td>1</td>\n      <td>1.5</td>\n      <td>...</td>\n      <td>0</td>\n      <td>0</td>\n      <td>0</td>\n      <td>1</td>\n      <td>1</td>\n      <td>0</td>\n      <td>0</td>\n      <td>0</td>\n      <td>1</td>\n      <td>0</td>\n    </tr>\n    <tr>\n      <th>4</th>\n      <td>151-40-1619</td>\n      <td>Mcgrath</td>\n      <td>79393</td>\n      <td>54</td>\n      <td>150</td>\n      <td>195</td>\n      <td>0</td>\n      <td>122</td>\n      <td>0</td>\n      <td>0.0</td>\n      <td>...</td>\n      <td>0</td>\n      <td>1</td>\n      <td>0</td>\n      <td>1</td>\n      <td>1</td>\n      <td>0</td>\n      <td>0</td>\n      <td>0</td>\n      <td>0</td>\n      <td>1</td>\n    </tr>\n  </tbody>\n</table>\n<p>5 rows × 24 columns</p>\n</div>"
     },
     "execution_count": 12,
     "metadata": {},
     "output_type": "execute_result"
    }
   ],
   "source": [
    "df = pd.read_csv(\"out/Clean.csv\", sep=\";\", decimal=\",\")\n",
    "df.head()"
   ],
   "metadata": {
    "collapsed": false,
    "ExecuteTime": {
     "end_time": "2023-09-11T19:11:13.153208Z",
     "start_time": "2023-09-11T19:11:13.128208300Z"
    }
   },
   "id": "e88580267a8ec5cb"
  },
  {
   "cell_type": "code",
   "execution_count": 13,
   "outputs": [
    {
     "name": "stdout",
     "output_type": "stream",
     "text": [
      "[[ 58  12]\n",
      " [ 12 101]]\n",
      "              precision    recall  f1-score   support\n",
      "\n",
      "           0       0.83      0.83      0.83        70\n",
      "           1       0.89      0.89      0.89       113\n",
      "\n",
      "    accuracy                           0.87       183\n",
      "   macro avg       0.86      0.86      0.86       183\n",
      "weighted avg       0.87      0.87      0.87       183\n"
     ]
    }
   ],
   "source": [
    "\n",
    "# Drop non-numeric columns\n",
    "columns_to_drop = ['CaseNumber', 'LastName', 'PostCode']\n",
    "df = df.drop(columns=columns_to_drop)\n",
    "\n",
    "# Separate features from the target variable\n",
    "X = df.drop(columns='HeartDisease')\n",
    "y = df['HeartDisease']\n",
    "\n",
    "# Split the data into training and test sets\n",
    "X_train, X_test, y_train, y_test = train_test_split(X, y, test_size=0.2, random_state=42)\n",
    "\n",
    "# Standardize the data\n",
    "scaler = StandardScaler()\n",
    "X_train = scaler.fit_transform(X_train)\n",
    "X_test = scaler.transform(X_test)  # Only transform, do not fit the scaler on test data!\n",
    "\n",
    "# Train the KNN classifier\n",
    "classifier = KNeighborsClassifier(n_neighbors=5)\n",
    "classifier.fit(X_train, y_train)\n",
    "\n",
    "# Make predictions on the test set\n",
    "y_pred = classifier.predict(X_test)\n",
    "\n",
    "# Evaluate the classifier's performance\n",
    "print(confusion_matrix(y_test, y_pred))\n",
    "print(classification_report(y_test, y_pred))\n"
   ],
   "metadata": {
    "collapsed": false,
    "ExecuteTime": {
     "end_time": "2023-09-11T19:11:13.335207900Z",
     "start_time": "2023-09-11T19:11:13.145208300Z"
    }
   },
   "id": "c649cc4edd271176"
  },
  {
   "cell_type": "code",
   "execution_count": 13,
   "outputs": [],
   "source": [],
   "metadata": {
    "collapsed": false,
    "ExecuteTime": {
     "end_time": "2023-09-11T19:11:13.378208200Z",
     "start_time": "2023-09-11T19:11:13.334208300Z"
    }
   },
   "id": "925b98143f7f4e4b"
  }
 ],
 "metadata": {
  "kernelspec": {
   "display_name": "Python 3",
   "language": "python",
   "name": "python3"
  },
  "language_info": {
   "codemirror_mode": {
    "name": "ipython",
    "version": 2
   },
   "file_extension": ".py",
   "mimetype": "text/x-python",
   "name": "python",
   "nbconvert_exporter": "python",
   "pygments_lexer": "ipython2",
   "version": "2.7.6"
  }
 },
 "nbformat": 4,
 "nbformat_minor": 5
}
